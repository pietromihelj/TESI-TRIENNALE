{
 "cells": [
  {
   "cell_type": "code",
   "execution_count": 1,
   "id": "b64e5b96",
   "metadata": {},
   "outputs": [],
   "source": [
    "import pre_process as pp\n",
    "import utils as u\n",
    "import dataset as dt\n",
    "import numpy as np\n",
    "import pandas as pd\n",
    "import joblib as jb\n",
    "from tqdm import tqdm\n",
    "from collections import Counter\n",
    "import time\n",
    "import os"
   ]
  },
  {
   "cell_type": "code",
   "execution_count": 2,
   "id": "1ee19adb",
   "metadata": {},
   "outputs": [],
   "source": [
    "path_list = u.get_path_list('D:/isip.piconepress.com/projects/nedc/data/tuh_eeg/tuh_eeg_abnormal/v3.0.1/edf',['.edf'],True)"
   ]
  },
  {
   "cell_type": "code",
   "execution_count": 3,
   "id": "6f9d26d8",
   "metadata": {},
   "outputs": [
    {
     "name": "stdout",
     "output_type": "stream",
     "text": [
      "<class 'numpy.ndarray'>\n",
      "(2993,)\n"
     ]
    }
   ],
   "source": [
    "print(type(path_list))\n",
    "print(path_list.shape)"
   ]
  },
  {
   "cell_type": "code",
   "execution_count": 4,
   "id": "41d9e7c7",
   "metadata": {},
   "outputs": [],
   "source": [
    "path_id_list= [f\"campione_{i}\" for i in range(1, 2994)]"
   ]
  },
  {
   "cell_type": "code",
   "execution_count": 5,
   "id": "84497f36",
   "metadata": {},
   "outputs": [],
   "source": [
    "df_path = pd.DataFrame({'Path_id':path_id_list, 'Path':path_list})"
   ]
  },
  {
   "cell_type": "code",
   "execution_count": 6,
   "id": "f31d7f40",
   "metadata": {},
   "outputs": [
    {
     "data": {
      "text/html": [
       "<div>\n",
       "<style scoped>\n",
       "    .dataframe tbody tr th:only-of-type {\n",
       "        vertical-align: middle;\n",
       "    }\n",
       "\n",
       "    .dataframe tbody tr th {\n",
       "        vertical-align: top;\n",
       "    }\n",
       "\n",
       "    .dataframe thead th {\n",
       "        text-align: right;\n",
       "    }\n",
       "</style>\n",
       "<table border=\"1\" class=\"dataframe\">\n",
       "  <thead>\n",
       "    <tr style=\"text-align: right;\">\n",
       "      <th></th>\n",
       "      <th>Path_id</th>\n",
       "      <th>Path</th>\n",
       "    </tr>\n",
       "  </thead>\n",
       "  <tbody>\n",
       "    <tr>\n",
       "      <th>2988</th>\n",
       "      <td>campione_2989</td>\n",
       "      <td>D:\\isip.piconepress.com\\projects\\nedc\\data\\tuh...</td>\n",
       "    </tr>\n",
       "    <tr>\n",
       "      <th>2989</th>\n",
       "      <td>campione_2990</td>\n",
       "      <td>D:\\isip.piconepress.com\\projects\\nedc\\data\\tuh...</td>\n",
       "    </tr>\n",
       "    <tr>\n",
       "      <th>2990</th>\n",
       "      <td>campione_2991</td>\n",
       "      <td>D:\\isip.piconepress.com\\projects\\nedc\\data\\tuh...</td>\n",
       "    </tr>\n",
       "    <tr>\n",
       "      <th>2991</th>\n",
       "      <td>campione_2992</td>\n",
       "      <td>D:\\isip.piconepress.com\\projects\\nedc\\data\\tuh...</td>\n",
       "    </tr>\n",
       "    <tr>\n",
       "      <th>2992</th>\n",
       "      <td>campione_2993</td>\n",
       "      <td>D:\\isip.piconepress.com\\projects\\nedc\\data\\tuh...</td>\n",
       "    </tr>\n",
       "  </tbody>\n",
       "</table>\n",
       "</div>"
      ],
      "text/plain": [
       "            Path_id                                               Path\n",
       "2988  campione_2989  D:\\isip.piconepress.com\\projects\\nedc\\data\\tuh...\n",
       "2989  campione_2990  D:\\isip.piconepress.com\\projects\\nedc\\data\\tuh...\n",
       "2990  campione_2991  D:\\isip.piconepress.com\\projects\\nedc\\data\\tuh...\n",
       "2991  campione_2992  D:\\isip.piconepress.com\\projects\\nedc\\data\\tuh...\n",
       "2992  campione_2993  D:\\isip.piconepress.com\\projects\\nedc\\data\\tuh..."
      ]
     },
     "execution_count": 6,
     "metadata": {},
     "output_type": "execute_result"
    }
   ],
   "source": [
    "df_path.tail()"
   ]
  },
  {
   "cell_type": "code",
   "execution_count": 7,
   "id": "3710b67e",
   "metadata": {},
   "outputs": [],
   "source": [
    "df_path.to_csv('path.csv', index=False, encoding='utf-8-sig')"
   ]
  },
  {
   "cell_type": "code",
   "execution_count": 8,
   "id": "852d6ec4",
   "metadata": {},
   "outputs": [],
   "source": [
    "def worker(in_file, out_dir, out_prefix):\n",
    "    try:\n",
    "        dg = pp.data_gen(in_file, out_dir, out_prefix)\n",
    "        dg.save_final_data(seg_len=5.0, merge_len=1)\n",
    "    except:\n",
    "        flag = False\n",
    "        time.sleep(3.0)\n",
    "    else:\n",
    "        flag = True\n",
    "    return in_file, flag"
   ]
  },
  {
   "cell_type": "code",
   "execution_count": 9,
   "id": "4109fd5b",
   "metadata": {},
   "outputs": [],
   "source": [
    "md_file = \"path.csv\"\n",
    "out_dir = \"D:/raw_data5s\"\n",
    "log_file = \"D:/raw_data5s/log.csv\""
   ]
  },
  {
   "cell_type": "code",
   "execution_count": 10,
   "id": "23b98682",
   "metadata": {},
   "outputs": [
    {
     "data": {
      "text/plain": [
       "('D:\\\\isip.piconepress.com\\\\projects\\\\nedc\\\\data\\\\tuh_eeg\\\\tuh_eeg_abnormal\\\\v3.0.1\\\\edf\\\\eval\\\\abnormal\\\\01_tcp_ar\\\\aaaaabdo_s003_t000.edf',\n",
       " 'campione_1')"
      ]
     },
     "execution_count": 10,
     "metadata": {},
     "output_type": "execute_result"
    }
   ],
   "source": [
    "if not os.path.isdir(out_dir):\n",
    "    os.makedirs(out_dir)\n",
    "\n",
    "df_path = pd.read_csv(md_file)\n",
    "tasks = [(Pt, Pt_id) for Pt, Pt_id in zip(df_path.Path, df_path.Path_id)]\n",
    "tasks[0]"
   ]
  },
  {
   "cell_type": "code",
   "execution_count": null,
   "id": "02a0b309",
   "metadata": {},
   "outputs": [],
   "source": [
    "n_jobs = jb.cpu_count()\n",
    "res = jb.Parallel(n_jobs=n_jobs, backend='loky')(jb.delayed(worker)(in_file, out_dir, out_f_id) for in_file, out_f_id in tqdm(tasks))"
   ]
  },
  {
   "cell_type": "code",
   "execution_count": null,
   "id": "cdcfe0d4",
   "metadata": {},
   "outputs": [],
   "source": [
    "df_log = pd.DataFrame(res, columns=['path', 'status'])\n",
    "df_log.to_csv(log_file, index=False, encoding=\"utf-8-sig\") "
   ]
  },
  {
   "cell_type": "code",
   "execution_count": 2,
   "id": "3dd264b5",
   "metadata": {},
   "outputs": [],
   "source": [
    "path_list = u.get_path_list('D:/raw_data5s', ['.npy'], True)"
   ]
  },
  {
   "cell_type": "code",
   "execution_count": 3,
   "id": "273cc737",
   "metadata": {},
   "outputs": [
    {
     "name": "stderr",
     "output_type": "stream",
     "text": [
      "100%|██████████| 2991/2991 [17:31<00:00,  2.84it/s]\n"
     ]
    }
   ],
   "source": [
    "clips = []\n",
    "chans = []\n",
    "freqs = []\n",
    "for path in tqdm(path_list):\n",
    "    file = np.load(path)\n",
    "    clips.append(file.shape[0])\n",
    "    chans.append(file.shape[1])\n",
    "    freqs.append(file.shape[2])"
   ]
  },
  {
   "cell_type": "code",
   "execution_count": 5,
   "id": "10490989",
   "metadata": {},
   "outputs": [
    {
     "name": "stdout",
     "output_type": "stream",
     "text": [
      "number of clips:  Counter({500: 2991})\n",
      "number of channels:  Counter({6: 2991})\n",
      "different frequencies:  Counter({1250: 2991})\n"
     ]
    }
   ],
   "source": [
    "print(\"number of clips: \", Counter(clips))\n",
    "print(\"number of channels: \", Counter(chans))\n",
    "print(\"different frequencies: \", Counter(freqs))"
   ]
  },
  {
   "cell_type": "code",
   "execution_count": 2,
   "id": "896b5437",
   "metadata": {},
   "outputs": [
    {
     "name": "stdout",
     "output_type": "stream",
     "text": [
      "paths presi\n",
      "create liste di train e test dei path\n",
      "create directory di test e train\n",
      "inizio salvataggio file di test\n"
     ]
    },
    {
     "name": "stderr",
     "output_type": "stream",
     "text": [
      "100%|██████████| 599/599 [03:16<00:00,  3.04it/s]\n"
     ]
    },
    {
     "name": "stdout",
     "output_type": "stream",
     "text": [
      "(500, 6, 250)\n",
      "save whole to D:/Dataset5s\\test\n",
      "save delta to D:/Dataset5s\\test\n",
      "save theta to D:/Dataset5s\\test\n",
      "save alpha to D:/Dataset5s\\test\n",
      "save low_beta to D:/Dataset5s\\test\n",
      "save high_beta to D:/Dataset5s\\test\n",
      "inizio salvataggio file di train\n"
     ]
    },
    {
     "name": "stderr",
     "output_type": "stream",
     "text": [
      "100%|██████████| 2392/2392 [13:26<00:00,  2.97it/s]\n"
     ]
    },
    {
     "name": "stdout",
     "output_type": "stream",
     "text": [
      "(500, 6, 250)\n",
      "save whole to D:/Dataset5s\\train\n",
      "save delta to D:/Dataset5s\\train\n",
      "save theta to D:/Dataset5s\\train\n",
      "save alpha to D:/Dataset5s\\train\n",
      "save low_beta to D:/Dataset5s\\train\n",
      "save high_beta to D:/Dataset5s\\train\n",
      "DONE!\n"
     ]
    }
   ],
   "source": [
    "files_directory = \"D:/raw_data5s\"\n",
    "out_directory = \"D:/Dataset5s\"\n",
    "dt.make_save_dataset(f_dir=files_directory, out_dir=out_directory)"
   ]
  }
 ],
 "metadata": {
  "kernelspec": {
   "display_name": ".venv",
   "language": "python",
   "name": "python3"
  },
  "language_info": {
   "codemirror_mode": {
    "name": "ipython",
    "version": 3
   },
   "file_extension": ".py",
   "mimetype": "text/x-python",
   "name": "python",
   "nbconvert_exporter": "python",
   "pygments_lexer": "ipython3",
   "version": "3.11.9"
  }
 },
 "nbformat": 4,
 "nbformat_minor": 5
}
