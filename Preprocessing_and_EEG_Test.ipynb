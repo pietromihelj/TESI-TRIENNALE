{
 "cells": [
  {
   "cell_type": "code",
   "execution_count": 6,
   "id": "b64e5b96",
   "metadata": {},
   "outputs": [],
   "source": [
    "import mne\n",
    "import matplotlib.pyplot as plt\n",
    "import pre_process as pp\n",
    "import utils as u\n",
    "import pandas as pd\n",
    "import time\n",
    "import joblib as jb\n",
    "from tqdm import tqdm\n",
    "import os"
   ]
  },
  {
   "cell_type": "code",
   "execution_count": 7,
   "id": "1ee19adb",
   "metadata": {},
   "outputs": [],
   "source": [
    "path_list = u.get_path_list('D:/isip.piconepress.com/projects/nedc/data/tuh_eeg/tuh_eeg_abnormal/v3.0.1/edf',['.edf'],True)"
   ]
  },
  {
   "cell_type": "code",
   "execution_count": 3,
   "id": "6f9d26d8",
   "metadata": {},
   "outputs": [
    {
     "name": "stdout",
     "output_type": "stream",
     "text": [
      "<class 'numpy.ndarray'>\n",
      "(2993,)\n"
     ]
    }
   ],
   "source": [
    "print(type(path_list))\n",
    "print(path_list.shape)"
   ]
  },
  {
   "cell_type": "code",
   "execution_count": 4,
   "id": "41d9e7c7",
   "metadata": {},
   "outputs": [],
   "source": [
    "path_id_list= [f\"campione_{i}\" for i in range(1, 2994)]"
   ]
  },
  {
   "cell_type": "code",
   "execution_count": 5,
   "id": "84497f36",
   "metadata": {},
   "outputs": [],
   "source": [
    "df_path = pd.DataFrame({'Path_id':path_id_list, 'Path':path_list})"
   ]
  },
  {
   "cell_type": "code",
   "execution_count": 6,
   "id": "f31d7f40",
   "metadata": {},
   "outputs": [
    {
     "data": {
      "text/html": [
       "<div>\n",
       "<style scoped>\n",
       "    .dataframe tbody tr th:only-of-type {\n",
       "        vertical-align: middle;\n",
       "    }\n",
       "\n",
       "    .dataframe tbody tr th {\n",
       "        vertical-align: top;\n",
       "    }\n",
       "\n",
       "    .dataframe thead th {\n",
       "        text-align: right;\n",
       "    }\n",
       "</style>\n",
       "<table border=\"1\" class=\"dataframe\">\n",
       "  <thead>\n",
       "    <tr style=\"text-align: right;\">\n",
       "      <th></th>\n",
       "      <th>Path_id</th>\n",
       "      <th>Path</th>\n",
       "    </tr>\n",
       "  </thead>\n",
       "  <tbody>\n",
       "    <tr>\n",
       "      <th>2988</th>\n",
       "      <td>campione_2989</td>\n",
       "      <td>D:\\isip.piconepress.com\\projects\\nedc\\data\\tuh...</td>\n",
       "    </tr>\n",
       "    <tr>\n",
       "      <th>2989</th>\n",
       "      <td>campione_2990</td>\n",
       "      <td>D:\\isip.piconepress.com\\projects\\nedc\\data\\tuh...</td>\n",
       "    </tr>\n",
       "    <tr>\n",
       "      <th>2990</th>\n",
       "      <td>campione_2991</td>\n",
       "      <td>D:\\isip.piconepress.com\\projects\\nedc\\data\\tuh...</td>\n",
       "    </tr>\n",
       "    <tr>\n",
       "      <th>2991</th>\n",
       "      <td>campione_2992</td>\n",
       "      <td>D:\\isip.piconepress.com\\projects\\nedc\\data\\tuh...</td>\n",
       "    </tr>\n",
       "    <tr>\n",
       "      <th>2992</th>\n",
       "      <td>campione_2993</td>\n",
       "      <td>D:\\isip.piconepress.com\\projects\\nedc\\data\\tuh...</td>\n",
       "    </tr>\n",
       "  </tbody>\n",
       "</table>\n",
       "</div>"
      ],
      "text/plain": [
       "            Path_id                                               Path\n",
       "2988  campione_2989  D:\\isip.piconepress.com\\projects\\nedc\\data\\tuh...\n",
       "2989  campione_2990  D:\\isip.piconepress.com\\projects\\nedc\\data\\tuh...\n",
       "2990  campione_2991  D:\\isip.piconepress.com\\projects\\nedc\\data\\tuh...\n",
       "2991  campione_2992  D:\\isip.piconepress.com\\projects\\nedc\\data\\tuh...\n",
       "2992  campione_2993  D:\\isip.piconepress.com\\projects\\nedc\\data\\tuh..."
      ]
     },
     "execution_count": 6,
     "metadata": {},
     "output_type": "execute_result"
    }
   ],
   "source": [
    "df_path.tail()"
   ]
  },
  {
   "cell_type": "code",
   "execution_count": 7,
   "id": "3710b67e",
   "metadata": {},
   "outputs": [],
   "source": [
    "df_path.to_csv('path.csv', index=False, encoding='utf-8-sig')"
   ]
  },
  {
   "cell_type": "code",
   "execution_count": null,
   "id": "852d6ec4",
   "metadata": {},
   "outputs": [],
   "source": [
    "def worker(in_file, out_dir, out_prefix):\n",
    "    try:\n",
    "        dg = pp.data_gen(in_file, out_dir, out_prefix)\n",
    "        dg.save_final_data(seg_len=1.0, merge_len=0.2)\n",
    "    except:\n",
    "        flag = False\n",
    "        time.sleep(3.0)\n",
    "    else:\n",
    "        flag = True\n",
    "    return in_file, flag"
   ]
  },
  {
   "cell_type": "code",
   "execution_count": 3,
   "id": "4109fd5b",
   "metadata": {},
   "outputs": [],
   "source": [
    "md_file = \"path.csv\"\n",
    "out_dir = \"D:/raw_data\"\n",
    "log_file = \"D:/raw_data/log.csv\""
   ]
  },
  {
   "cell_type": "code",
   "execution_count": 4,
   "id": "23b98682",
   "metadata": {},
   "outputs": [
    {
     "data": {
      "text/plain": [
       "('D:\\\\isip.piconepress.com\\\\projects\\\\nedc\\\\data\\\\tuh_eeg\\\\tuh_eeg_abnormal\\\\v3.0.1\\\\edf\\\\eval\\\\abnormal\\\\01_tcp_ar\\\\aaaaabdo_s003_t000.edf',\n",
       " 'campione_1')"
      ]
     },
     "execution_count": 4,
     "metadata": {},
     "output_type": "execute_result"
    }
   ],
   "source": [
    "if not os.path.isdir(out_dir):\n",
    "    os.makedirs(out_dir)\n",
    "\n",
    "df_path = pd.read_csv(md_file)\n",
    "tasks = [(Pt, Pt_id) for Pt, Pt_id in zip(df_path.Path, df_path.Path_id)]\n",
    "tasks[0]"
   ]
  },
  {
   "cell_type": "code",
   "execution_count": 5,
   "id": "02a0b309",
   "metadata": {},
   "outputs": [
    {
     "name": "stderr",
     "output_type": "stream",
     "text": [
      "  0%|          | 0/2993 [00:00<?, ?it/s]"
     ]
    },
    {
     "name": "stdout",
     "output_type": "stream",
     "text": [
      "19\n",
      "<class 'list'>\n"
     ]
    },
    {
     "name": "stderr",
     "output_type": "stream",
     "text": [
      "  0%|          | 1/2993 [00:02<2:06:33,  2.54s/it]"
     ]
    },
    {
     "name": "stdout",
     "output_type": "stream",
     "text": [
      "19\n",
      "<class 'list'>\n"
     ]
    },
    {
     "name": "stderr",
     "output_type": "stream",
     "text": [
      "  0%|          | 2/2993 [00:05<2:04:39,  2.50s/it]"
     ]
    },
    {
     "name": "stdout",
     "output_type": "stream",
     "text": [
      "19\n",
      "<class 'list'>\n"
     ]
    },
    {
     "name": "stderr",
     "output_type": "stream",
     "text": [
      "  0%|          | 3/2993 [00:07<2:03:00,  2.47s/it]"
     ]
    },
    {
     "name": "stdout",
     "output_type": "stream",
     "text": [
      "19\n",
      "<class 'list'>\n"
     ]
    },
    {
     "name": "stderr",
     "output_type": "stream",
     "text": [
      "  0%|          | 4/2993 [00:09<2:00:33,  2.42s/it]"
     ]
    },
    {
     "name": "stdout",
     "output_type": "stream",
     "text": [
      "19\n",
      "<class 'list'>\n"
     ]
    },
    {
     "name": "stderr",
     "output_type": "stream",
     "text": [
      "  0%|          | 5/2993 [00:12<2:11:57,  2.65s/it]"
     ]
    },
    {
     "name": "stdout",
     "output_type": "stream",
     "text": [
      "19\n",
      "<class 'list'>\n"
     ]
    },
    {
     "name": "stderr",
     "output_type": "stream",
     "text": [
      "  0%|          | 6/2993 [00:15<2:18:07,  2.77s/it]"
     ]
    },
    {
     "name": "stdout",
     "output_type": "stream",
     "text": [
      "19\n",
      "<class 'list'>\n"
     ]
    },
    {
     "name": "stderr",
     "output_type": "stream",
     "text": [
      "  0%|          | 7/2993 [00:18<2:21:48,  2.85s/it]"
     ]
    },
    {
     "name": "stdout",
     "output_type": "stream",
     "text": [
      "19\n",
      "<class 'list'>\n"
     ]
    },
    {
     "name": "stderr",
     "output_type": "stream",
     "text": [
      "  0%|          | 8/2993 [00:21<2:23:12,  2.88s/it]"
     ]
    },
    {
     "ename": "KeyboardInterrupt",
     "evalue": "",
     "output_type": "error",
     "traceback": [
      "\u001b[31m---------------------------------------------------------------------------\u001b[39m",
      "\u001b[31mKeyboardInterrupt\u001b[39m                         Traceback (most recent call last)",
      "\u001b[36mCell\u001b[39m\u001b[36m \u001b[39m\u001b[32mIn[5]\u001b[39m\u001b[32m, line 2\u001b[39m\n\u001b[32m      1\u001b[39m n_jobs = jb.cpu_count()\n\u001b[32m----> \u001b[39m\u001b[32m2\u001b[39m res = \u001b[43mjb\u001b[49m\u001b[43m.\u001b[49m\u001b[43mParallel\u001b[49m\u001b[43m(\u001b[49m\u001b[43mn_jobs\u001b[49m\u001b[43m=\u001b[49m\u001b[32;43m1\u001b[39;49m\u001b[43m)\u001b[49m\u001b[43m(\u001b[49m\u001b[43mjb\u001b[49m\u001b[43m.\u001b[49m\u001b[43mdelayed\u001b[49m\u001b[43m(\u001b[49m\u001b[43mworker\u001b[49m\u001b[43m)\u001b[49m\u001b[43m(\u001b[49m\u001b[43min_file\u001b[49m\u001b[43m,\u001b[49m\u001b[43m \u001b[49m\u001b[43mout_dir\u001b[49m\u001b[43m,\u001b[49m\u001b[43m \u001b[49m\u001b[43mout_f_id\u001b[49m\u001b[43m)\u001b[49m\u001b[43m \u001b[49m\u001b[38;5;28;43;01mfor\u001b[39;49;00m\u001b[43m \u001b[49m\u001b[43min_file\u001b[49m\u001b[43m,\u001b[49m\u001b[43m \u001b[49m\u001b[43mout_f_id\u001b[49m\u001b[43m \u001b[49m\u001b[38;5;129;43;01min\u001b[39;49;00m\u001b[43m \u001b[49m\u001b[43mtqdm\u001b[49m\u001b[43m(\u001b[49m\u001b[43mtasks\u001b[49m\u001b[43m)\u001b[49m\u001b[43m)\u001b[49m\n",
      "\u001b[36mFile \u001b[39m\u001b[32mc:\\Users\\pitom\\OneDrive\\Desktop\\materiale uni\\Tesi\\TESI-TRIENNALE\\.venv\\Lib\\site-packages\\joblib\\parallel.py:1986\u001b[39m, in \u001b[36mParallel.__call__\u001b[39m\u001b[34m(self, iterable)\u001b[39m\n\u001b[32m   1984\u001b[39m     output = \u001b[38;5;28mself\u001b[39m._get_sequential_output(iterable)\n\u001b[32m   1985\u001b[39m     \u001b[38;5;28mnext\u001b[39m(output)\n\u001b[32m-> \u001b[39m\u001b[32m1986\u001b[39m     \u001b[38;5;28;01mreturn\u001b[39;00m output \u001b[38;5;28;01mif\u001b[39;00m \u001b[38;5;28mself\u001b[39m.return_generator \u001b[38;5;28;01melse\u001b[39;00m \u001b[38;5;28;43mlist\u001b[39;49m\u001b[43m(\u001b[49m\u001b[43moutput\u001b[49m\u001b[43m)\u001b[49m\n\u001b[32m   1988\u001b[39m \u001b[38;5;66;03m# Let's create an ID that uniquely identifies the current call. If the\u001b[39;00m\n\u001b[32m   1989\u001b[39m \u001b[38;5;66;03m# call is interrupted early and that the same instance is immediately\u001b[39;00m\n\u001b[32m   1990\u001b[39m \u001b[38;5;66;03m# reused, this id will be used to prevent workers that were\u001b[39;00m\n\u001b[32m   1991\u001b[39m \u001b[38;5;66;03m# concurrently finalizing a task from the previous call to run the\u001b[39;00m\n\u001b[32m   1992\u001b[39m \u001b[38;5;66;03m# callback.\u001b[39;00m\n\u001b[32m   1993\u001b[39m \u001b[38;5;28;01mwith\u001b[39;00m \u001b[38;5;28mself\u001b[39m._lock:\n",
      "\u001b[36mFile \u001b[39m\u001b[32mc:\\Users\\pitom\\OneDrive\\Desktop\\materiale uni\\Tesi\\TESI-TRIENNALE\\.venv\\Lib\\site-packages\\joblib\\parallel.py:1914\u001b[39m, in \u001b[36mParallel._get_sequential_output\u001b[39m\u001b[34m(self, iterable)\u001b[39m\n\u001b[32m   1912\u001b[39m \u001b[38;5;28mself\u001b[39m.n_dispatched_batches += \u001b[32m1\u001b[39m\n\u001b[32m   1913\u001b[39m \u001b[38;5;28mself\u001b[39m.n_dispatched_tasks += \u001b[32m1\u001b[39m\n\u001b[32m-> \u001b[39m\u001b[32m1914\u001b[39m res = \u001b[43mfunc\u001b[49m\u001b[43m(\u001b[49m\u001b[43m*\u001b[49m\u001b[43margs\u001b[49m\u001b[43m,\u001b[49m\u001b[43m \u001b[49m\u001b[43m*\u001b[49m\u001b[43m*\u001b[49m\u001b[43mkwargs\u001b[49m\u001b[43m)\u001b[49m\n\u001b[32m   1915\u001b[39m \u001b[38;5;28mself\u001b[39m.n_completed_tasks += \u001b[32m1\u001b[39m\n\u001b[32m   1916\u001b[39m \u001b[38;5;28mself\u001b[39m.print_progress()\n",
      "\u001b[36mCell\u001b[39m\u001b[36m \u001b[39m\u001b[32mIn[2]\u001b[39m\u001b[32m, line 3\u001b[39m, in \u001b[36mworker\u001b[39m\u001b[34m(in_file, out_dir, out_prefix)\u001b[39m\n\u001b[32m      1\u001b[39m \u001b[38;5;28;01mdef\u001b[39;00m\u001b[38;5;250m \u001b[39m\u001b[34mworker\u001b[39m(in_file, out_dir, out_prefix):\n\u001b[32m      2\u001b[39m     \u001b[38;5;66;03m#try:\u001b[39;00m\n\u001b[32m----> \u001b[39m\u001b[32m3\u001b[39m     dg = \u001b[43mpp\u001b[49m\u001b[43m.\u001b[49m\u001b[43mdata_gen\u001b[49m\u001b[43m(\u001b[49m\u001b[43min_file\u001b[49m\u001b[43m,\u001b[49m\u001b[43m \u001b[49m\u001b[43mout_dir\u001b[49m\u001b[43m,\u001b[49m\u001b[43m \u001b[49m\u001b[43mout_prefix\u001b[49m\u001b[43m)\u001b[49m\n\u001b[32m      4\u001b[39m     dg.save_final_data(seg_len=\u001b[32m1.0\u001b[39m, merge_len=\u001b[32m0.2\u001b[39m)\n\u001b[32m      5\u001b[39m     \u001b[38;5;66;03m#except:\u001b[39;00m\n\u001b[32m      6\u001b[39m     \u001b[38;5;66;03m#    flag = False\u001b[39;00m\n\u001b[32m      7\u001b[39m     \u001b[38;5;66;03m#    time.sleep(3.0)\u001b[39;00m\n\u001b[32m      8\u001b[39m     \u001b[38;5;66;03m#else:\u001b[39;00m\n\u001b[32m      9\u001b[39m     \u001b[38;5;66;03m#    flag = True\u001b[39;00m\n",
      "\u001b[36mFile \u001b[39m\u001b[32mc:\\Users\\pitom\\OneDrive\\Desktop\\materiale uni\\Tesi\\TESI-TRIENNALE\\pre_process.py:25\u001b[39m, in \u001b[36mdata_gen.__init__\u001b[39m\u001b[34m(self, f_name, d_out, out_prefix)\u001b[39m\n\u001b[32m     23\u001b[39m \u001b[38;5;28mself\u001b[39m.d_out = d_out\n\u001b[32m     24\u001b[39m \u001b[38;5;28mself\u001b[39m.out_prefix = out_prefix\n\u001b[32m---> \u001b[39m\u001b[32m25\u001b[39m \u001b[38;5;28mself\u001b[39m.data, \u001b[38;5;28mself\u001b[39m.ch_names = \u001b[38;5;28;43mself\u001b[39;49m\u001b[43m.\u001b[49m\u001b[43mget_filtered_data\u001b[49m\u001b[43m(\u001b[49m\u001b[43mverbose\u001b[49m\u001b[43m \u001b[49m\u001b[43m=\u001b[49m\u001b[43m \u001b[49m\u001b[38;5;28;43;01mFalse\u001b[39;49;00m\u001b[43m)\u001b[49m\n",
      "\u001b[36mFile \u001b[39m\u001b[32mc:\\Users\\pitom\\OneDrive\\Desktop\\materiale uni\\Tesi\\TESI-TRIENNALE\\pre_process.py:87\u001b[39m, in \u001b[36mdata_gen.get_filtered_data\u001b[39m\u001b[34m(self, verbose)\u001b[39m\n\u001b[32m     84\u001b[39m \u001b[38;5;66;03m#filtro il segnale in 5 bande\u001b[39;00m\n\u001b[32m     85\u001b[39m \u001b[38;5;28;01mfor\u001b[39;00m key,(lf,hf) \u001b[38;5;129;01min\u001b[39;00m \u001b[38;5;28mself\u001b[39m._BANDS.items():\n\u001b[32m---> \u001b[39m\u001b[32m87\u001b[39m     filter_results[key] = \u001b[43mmne\u001b[49m\u001b[43m.\u001b[49m\u001b[43mfilter\u001b[49m\u001b[43m.\u001b[49m\u001b[43mfilter_data\u001b[49m\u001b[43m(\u001b[49m\u001b[43mdata\u001b[49m\u001b[43m,\u001b[49m\u001b[43m \u001b[49m\u001b[38;5;28;43mself\u001b[39;49m\u001b[43m.\u001b[49m\u001b[43m_SFREQ\u001b[49m\u001b[43m,\u001b[49m\u001b[43m \u001b[49m\u001b[43ml_freq\u001b[49m\u001b[43m=\u001b[49m\u001b[43mlf\u001b[49m\u001b[43m,\u001b[49m\u001b[43m \u001b[49m\u001b[43mh_freq\u001b[49m\u001b[43m=\u001b[49m\u001b[43mhf\u001b[49m\u001b[43m,\u001b[49m\u001b[43m \u001b[49m\u001b[43mfilter_length\u001b[49m\u001b[43m=\u001b[49m\u001b[33;43m'\u001b[39;49m\u001b[33;43mauto\u001b[39;49m\u001b[33;43m'\u001b[39;49m\u001b[43m,\u001b[49m\u001b[43m \u001b[49m\u001b[43mfir_design\u001b[49m\u001b[43m=\u001b[49m\u001b[33;43m'\u001b[39;49m\u001b[33;43mfirwin\u001b[39;49m\u001b[33;43m'\u001b[39;49m\u001b[43m,\u001b[49m\u001b[43mverbose\u001b[49m\u001b[43m=\u001b[49m\u001b[43mverbose\u001b[49m\u001b[43m)\u001b[49m.astype(np.float32)\n\u001b[32m     89\u001b[39m ch_names = raw.ch_names\n\u001b[32m     91\u001b[39m \u001b[38;5;66;03m#pulisco la memoria\u001b[39;00m\n",
      "\u001b[36mFile \u001b[39m\u001b[32m<decorator-gen-51>:10\u001b[39m, in \u001b[36mfilter_data\u001b[39m\u001b[34m(data, sfreq, l_freq, h_freq, picks, filter_length, l_trans_bandwidth, h_trans_bandwidth, n_jobs, method, iir_params, copy, phase, fir_window, fir_design, pad, verbose)\u001b[39m\n",
      "\u001b[36mFile \u001b[39m\u001b[32mc:\\Users\\pitom\\OneDrive\\Desktop\\materiale uni\\Tesi\\TESI-TRIENNALE\\.venv\\Lib\\site-packages\\mne\\filter.py:1027\u001b[39m, in \u001b[36mfilter_data\u001b[39m\u001b[34m(data, sfreq, l_freq, h_freq, picks, filter_length, l_trans_bandwidth, h_trans_bandwidth, n_jobs, method, iir_params, copy, phase, fir_window, fir_design, pad, verbose)\u001b[39m\n\u001b[32m   1012\u001b[39m filt = create_filter(\n\u001b[32m   1013\u001b[39m     data,\n\u001b[32m   1014\u001b[39m     sfreq,\n\u001b[32m   (...)\u001b[39m\u001b[32m   1024\u001b[39m     fir_design,\n\u001b[32m   1025\u001b[39m )\n\u001b[32m   1026\u001b[39m \u001b[38;5;28;01mif\u001b[39;00m method \u001b[38;5;129;01min\u001b[39;00m (\u001b[33m\"\u001b[39m\u001b[33mfir\u001b[39m\u001b[33m\"\u001b[39m, \u001b[33m\"\u001b[39m\u001b[33mfft\u001b[39m\u001b[33m\"\u001b[39m):\n\u001b[32m-> \u001b[39m\u001b[32m1027\u001b[39m     data = \u001b[43m_overlap_add_filter\u001b[49m\u001b[43m(\u001b[49m\u001b[43mdata\u001b[49m\u001b[43m,\u001b[49m\u001b[43m \u001b[49m\u001b[43mfilt\u001b[49m\u001b[43m,\u001b[49m\u001b[43m \u001b[49m\u001b[38;5;28;43;01mNone\u001b[39;49;00m\u001b[43m,\u001b[49m\u001b[43m \u001b[49m\u001b[43mphase\u001b[49m\u001b[43m,\u001b[49m\u001b[43m \u001b[49m\u001b[43mpicks\u001b[49m\u001b[43m,\u001b[49m\u001b[43m \u001b[49m\u001b[43mn_jobs\u001b[49m\u001b[43m,\u001b[49m\u001b[43m \u001b[49m\u001b[43mcopy\u001b[49m\u001b[43m,\u001b[49m\u001b[43m \u001b[49m\u001b[43mpad\u001b[49m\u001b[43m)\u001b[49m\n\u001b[32m   1028\u001b[39m \u001b[38;5;28;01melse\u001b[39;00m:\n\u001b[32m   1029\u001b[39m     data = _iir_filter(data, filt, picks, n_jobs, copy, phase)\n",
      "\u001b[36mFile \u001b[39m\u001b[32mc:\\Users\\pitom\\OneDrive\\Desktop\\materiale uni\\Tesi\\TESI-TRIENNALE\\.venv\\Lib\\site-packages\\mne\\filter.py:346\u001b[39m, in \u001b[36m_overlap_add_filter\u001b[39m\u001b[34m(x, h, n_fft, phase, picks, n_jobs, copy, pad)\u001b[39m\n\u001b[32m    342\u001b[39m         x[p] = _1d_overlap_filter(\n\u001b[32m    343\u001b[39m             x[p], \u001b[38;5;28mlen\u001b[39m(h), n_edge, phase, cuda_dict, pad, n_fft\n\u001b[32m    344\u001b[39m         )\n\u001b[32m    345\u001b[39m \u001b[38;5;28;01melse\u001b[39;00m:\n\u001b[32m--> \u001b[39m\u001b[32m346\u001b[39m     data_new = \u001b[43mparallel\u001b[49m\u001b[43m(\u001b[49m\n\u001b[32m    347\u001b[39m \u001b[43m        \u001b[49m\u001b[43mp_fun\u001b[49m\u001b[43m(\u001b[49m\u001b[43mx\u001b[49m\u001b[43m[\u001b[49m\u001b[43mp\u001b[49m\u001b[43m]\u001b[49m\u001b[43m,\u001b[49m\u001b[43m \u001b[49m\u001b[38;5;28;43mlen\u001b[39;49m\u001b[43m(\u001b[49m\u001b[43mh\u001b[49m\u001b[43m)\u001b[49m\u001b[43m,\u001b[49m\u001b[43m \u001b[49m\u001b[43mn_edge\u001b[49m\u001b[43m,\u001b[49m\u001b[43m \u001b[49m\u001b[43mphase\u001b[49m\u001b[43m,\u001b[49m\u001b[43m \u001b[49m\u001b[43mcuda_dict\u001b[49m\u001b[43m,\u001b[49m\u001b[43m \u001b[49m\u001b[43mpad\u001b[49m\u001b[43m,\u001b[49m\u001b[43m \u001b[49m\u001b[43mn_fft\u001b[49m\u001b[43m)\u001b[49m\u001b[43m \u001b[49m\u001b[38;5;28;43;01mfor\u001b[39;49;00m\u001b[43m \u001b[49m\u001b[43mp\u001b[49m\u001b[43m \u001b[49m\u001b[38;5;129;43;01min\u001b[39;49;00m\u001b[43m \u001b[49m\u001b[43mpicks\u001b[49m\n\u001b[32m    348\u001b[39m \u001b[43m    \u001b[49m\u001b[43m)\u001b[49m\n\u001b[32m    349\u001b[39m     \u001b[38;5;28;01mfor\u001b[39;00m pp, p \u001b[38;5;129;01min\u001b[39;00m \u001b[38;5;28menumerate\u001b[39m(picks):\n\u001b[32m    350\u001b[39m         x[p] = data_new[pp]\n",
      "\u001b[36mFile \u001b[39m\u001b[32mc:\\Users\\pitom\\OneDrive\\Desktop\\materiale uni\\Tesi\\TESI-TRIENNALE\\.venv\\Lib\\site-packages\\joblib\\parallel.py:1986\u001b[39m, in \u001b[36mParallel.__call__\u001b[39m\u001b[34m(self, iterable)\u001b[39m\n\u001b[32m   1984\u001b[39m     output = \u001b[38;5;28mself\u001b[39m._get_sequential_output(iterable)\n\u001b[32m   1985\u001b[39m     \u001b[38;5;28mnext\u001b[39m(output)\n\u001b[32m-> \u001b[39m\u001b[32m1986\u001b[39m     \u001b[38;5;28;01mreturn\u001b[39;00m output \u001b[38;5;28;01mif\u001b[39;00m \u001b[38;5;28mself\u001b[39m.return_generator \u001b[38;5;28;01melse\u001b[39;00m \u001b[38;5;28mlist\u001b[39m(output)\n\u001b[32m   1988\u001b[39m \u001b[38;5;66;03m# Let's create an ID that uniquely identifies the current call. If the\u001b[39;00m\n\u001b[32m   1989\u001b[39m \u001b[38;5;66;03m# call is interrupted early and that the same instance is immediately\u001b[39;00m\n\u001b[32m   1990\u001b[39m \u001b[38;5;66;03m# reused, this id will be used to prevent workers that were\u001b[39;00m\n\u001b[32m   1991\u001b[39m \u001b[38;5;66;03m# concurrently finalizing a task from the previous call to run the\u001b[39;00m\n\u001b[32m   1992\u001b[39m \u001b[38;5;66;03m# callback.\u001b[39;00m\n\u001b[32m   1993\u001b[39m \u001b[38;5;28;01mwith\u001b[39;00m \u001b[38;5;28mself\u001b[39m._lock:\n",
      "\u001b[36mFile \u001b[39m\u001b[32mc:\\Users\\pitom\\OneDrive\\Desktop\\materiale uni\\Tesi\\TESI-TRIENNALE\\.venv\\Lib\\site-packages\\joblib\\parallel.py:1914\u001b[39m, in \u001b[36mParallel._get_sequential_output\u001b[39m\u001b[34m(self, iterable)\u001b[39m\n\u001b[32m   1912\u001b[39m \u001b[38;5;28mself\u001b[39m.n_dispatched_batches += \u001b[32m1\u001b[39m\n\u001b[32m   1913\u001b[39m \u001b[38;5;28mself\u001b[39m.n_dispatched_tasks += \u001b[32m1\u001b[39m\n\u001b[32m-> \u001b[39m\u001b[32m1914\u001b[39m res = \u001b[43mfunc\u001b[49m\u001b[43m(\u001b[49m\u001b[43m*\u001b[49m\u001b[43margs\u001b[49m\u001b[43m,\u001b[49m\u001b[43m \u001b[49m\u001b[43m*\u001b[49m\u001b[43m*\u001b[49m\u001b[43mkwargs\u001b[49m\u001b[43m)\u001b[49m\n\u001b[32m   1915\u001b[39m \u001b[38;5;28mself\u001b[39m.n_completed_tasks += \u001b[32m1\u001b[39m\n\u001b[32m   1916\u001b[39m \u001b[38;5;28mself\u001b[39m.print_progress()\n",
      "\u001b[36mFile \u001b[39m\u001b[32mc:\\Users\\pitom\\OneDrive\\Desktop\\materiale uni\\Tesi\\TESI-TRIENNALE\\.venv\\Lib\\site-packages\\mne\\parallel.py:127\u001b[39m, in \u001b[36mparallel_func.<locals>.run_verbose\u001b[39m\u001b[34m(verbose, *args, **kwargs)\u001b[39m\n\u001b[32m    125\u001b[39m \u001b[38;5;28;01mdef\u001b[39;00m\u001b[38;5;250m \u001b[39m\u001b[34mrun_verbose\u001b[39m(*args, verbose=logger.level, **kwargs):\n\u001b[32m    126\u001b[39m     \u001b[38;5;28;01mwith\u001b[39;00m use_log_level(verbose=verbose):\n\u001b[32m--> \u001b[39m\u001b[32m127\u001b[39m         \u001b[38;5;28;01mreturn\u001b[39;00m \u001b[43mfunc\u001b[49m\u001b[43m(\u001b[49m\u001b[43m*\u001b[49m\u001b[43margs\u001b[49m\u001b[43m,\u001b[49m\u001b[43m \u001b[49m\u001b[43m*\u001b[49m\u001b[43m*\u001b[49m\u001b[43mkwargs\u001b[49m\u001b[43m)\u001b[49m\n",
      "\u001b[36mFile \u001b[39m\u001b[32mc:\\Users\\pitom\\OneDrive\\Desktop\\materiale uni\\Tesi\\TESI-TRIENNALE\\.venv\\Lib\\site-packages\\mne\\filter.py:375\u001b[39m, in \u001b[36m_1d_overlap_filter\u001b[39m\u001b[34m(x, n_h, n_edge, phase, cuda_dict, pad, n_fft)\u001b[39m\n\u001b[32m    372\u001b[39m seg = x_ext[start:stop]\n\u001b[32m    373\u001b[39m seg = np.concatenate([seg, np.zeros(n_fft - \u001b[38;5;28mlen\u001b[39m(seg))])\n\u001b[32m--> \u001b[39m\u001b[32m375\u001b[39m prod = \u001b[43m_fft_multiply_repeated\u001b[49m\u001b[43m(\u001b[49m\u001b[43mseg\u001b[49m\u001b[43m,\u001b[49m\u001b[43m \u001b[49m\u001b[43mcuda_dict\u001b[49m\u001b[43m)\u001b[49m\n\u001b[32m    377\u001b[39m start_filt = \u001b[38;5;28mmax\u001b[39m(\u001b[32m0\u001b[39m, start - shift)\n\u001b[32m    378\u001b[39m stop_filt = \u001b[38;5;28mmin\u001b[39m(start - shift + n_fft, n_x)\n",
      "\u001b[36mFile \u001b[39m\u001b[32mc:\\Users\\pitom\\OneDrive\\Desktop\\materiale uni\\Tesi\\TESI-TRIENNALE\\.venv\\Lib\\site-packages\\mne\\cuda.py:215\u001b[39m, in \u001b[36m_fft_multiply_repeated\u001b[39m\u001b[34m(x, cuda_dict)\u001b[39m\n\u001b[32m    196\u001b[39m \u001b[38;5;250m\u001b[39m\u001b[33;03m\"\"\"Do FFT multiplication by a filter function (possibly using CUDA).\u001b[39;00m\n\u001b[32m    197\u001b[39m \n\u001b[32m    198\u001b[39m \u001b[33;03mParameters\u001b[39;00m\n\u001b[32m   (...)\u001b[39m\u001b[32m    212\u001b[39m \u001b[33;03m    Filtered version of x.\u001b[39;00m\n\u001b[32m    213\u001b[39m \u001b[33;03m\"\"\"\u001b[39;00m\n\u001b[32m    214\u001b[39m \u001b[38;5;66;03m# do the fourier-domain operations\u001b[39;00m\n\u001b[32m--> \u001b[39m\u001b[32m215\u001b[39m x_fft = \u001b[43mcuda_dict\u001b[49m\u001b[43m[\u001b[49m\u001b[33;43m\"\u001b[39;49m\u001b[33;43mrfft\u001b[39;49m\u001b[33;43m\"\u001b[39;49m\u001b[43m]\u001b[49m\u001b[43m(\u001b[49m\u001b[43mx\u001b[49m\u001b[43m,\u001b[49m\u001b[43m \u001b[49m\u001b[43mcuda_dict\u001b[49m\u001b[43m[\u001b[49m\u001b[33;43m\"\u001b[39;49m\u001b[33;43mn_fft\u001b[39;49m\u001b[33;43m\"\u001b[39;49m\u001b[43m]\u001b[49m\u001b[43m)\u001b[49m\n\u001b[32m    216\u001b[39m x_fft *= cuda_dict[\u001b[33m\"\u001b[39m\u001b[33mh_fft\u001b[39m\u001b[33m\"\u001b[39m]\n\u001b[32m    217\u001b[39m x = cuda_dict[\u001b[33m\"\u001b[39m\u001b[33mirfft\u001b[39m\u001b[33m\"\u001b[39m](x_fft, cuda_dict[\u001b[33m\"\u001b[39m\u001b[33mn_fft\u001b[39m\u001b[33m\"\u001b[39m])\n",
      "\u001b[36mFile \u001b[39m\u001b[32mc:\\Users\\pitom\\OneDrive\\Desktop\\materiale uni\\Tesi\\TESI-TRIENNALE\\.venv\\Lib\\site-packages\\scipy\\fft\\_backend.py:28\u001b[39m, in \u001b[36m_ScipyBackend.__ua_function__\u001b[39m\u001b[34m(method, args, kwargs)\u001b[39m\n\u001b[32m     26\u001b[39m \u001b[38;5;28;01mif\u001b[39;00m fn \u001b[38;5;129;01mis\u001b[39;00m \u001b[38;5;28;01mNone\u001b[39;00m:\n\u001b[32m     27\u001b[39m     \u001b[38;5;28;01mreturn\u001b[39;00m \u001b[38;5;28mNotImplemented\u001b[39m\n\u001b[32m---> \u001b[39m\u001b[32m28\u001b[39m \u001b[38;5;28;01mreturn\u001b[39;00m \u001b[43mfn\u001b[49m\u001b[43m(\u001b[49m\u001b[43m*\u001b[49m\u001b[43margs\u001b[49m\u001b[43m,\u001b[49m\u001b[43m \u001b[49m\u001b[43m*\u001b[49m\u001b[43m*\u001b[49m\u001b[43mkwargs\u001b[49m\u001b[43m)\u001b[49m\n",
      "\u001b[36mFile \u001b[39m\u001b[32mc:\\Users\\pitom\\OneDrive\\Desktop\\materiale uni\\Tesi\\TESI-TRIENNALE\\.venv\\Lib\\site-packages\\scipy\\fft\\_basic_backend.py:91\u001b[39m, in \u001b[36mrfft\u001b[39m\u001b[34m(x, n, axis, norm, overwrite_x, workers, plan)\u001b[39m\n\u001b[32m     89\u001b[39m \u001b[38;5;28;01mdef\u001b[39;00m\u001b[38;5;250m \u001b[39m\u001b[34mrfft\u001b[39m(x, n=\u001b[38;5;28;01mNone\u001b[39;00m, axis=-\u001b[32m1\u001b[39m, norm=\u001b[38;5;28;01mNone\u001b[39;00m,\n\u001b[32m     90\u001b[39m          overwrite_x=\u001b[38;5;28;01mFalse\u001b[39;00m, workers=\u001b[38;5;28;01mNone\u001b[39;00m, *, plan=\u001b[38;5;28;01mNone\u001b[39;00m):\n\u001b[32m---> \u001b[39m\u001b[32m91\u001b[39m     \u001b[38;5;28;01mreturn\u001b[39;00m \u001b[43m_execute_1D\u001b[49m\u001b[43m(\u001b[49m\u001b[33;43m'\u001b[39;49m\u001b[33;43mrfft\u001b[39;49m\u001b[33;43m'\u001b[39;49m\u001b[43m,\u001b[49m\u001b[43m \u001b[49m\u001b[43m_pocketfft\u001b[49m\u001b[43m.\u001b[49m\u001b[43mrfft\u001b[49m\u001b[43m,\u001b[49m\u001b[43m \u001b[49m\u001b[43mx\u001b[49m\u001b[43m,\u001b[49m\u001b[43m \u001b[49m\u001b[43mn\u001b[49m\u001b[43m=\u001b[49m\u001b[43mn\u001b[49m\u001b[43m,\u001b[49m\u001b[43m \u001b[49m\u001b[43maxis\u001b[49m\u001b[43m=\u001b[49m\u001b[43maxis\u001b[49m\u001b[43m,\u001b[49m\u001b[43m \u001b[49m\u001b[43mnorm\u001b[49m\u001b[43m=\u001b[49m\u001b[43mnorm\u001b[49m\u001b[43m,\u001b[49m\n\u001b[32m     92\u001b[39m \u001b[43m                       \u001b[49m\u001b[43moverwrite_x\u001b[49m\u001b[43m=\u001b[49m\u001b[43moverwrite_x\u001b[49m\u001b[43m,\u001b[49m\u001b[43m \u001b[49m\u001b[43mworkers\u001b[49m\u001b[43m=\u001b[49m\u001b[43mworkers\u001b[49m\u001b[43m,\u001b[49m\u001b[43m \u001b[49m\u001b[43mplan\u001b[49m\u001b[43m=\u001b[49m\u001b[43mplan\u001b[49m\u001b[43m)\u001b[49m\n",
      "\u001b[36mFile \u001b[39m\u001b[32mc:\\Users\\pitom\\OneDrive\\Desktop\\materiale uni\\Tesi\\TESI-TRIENNALE\\.venv\\Lib\\site-packages\\scipy\\fft\\_basic_backend.py:32\u001b[39m, in \u001b[36m_execute_1D\u001b[39m\u001b[34m(func_str, pocketfft_func, x, n, axis, norm, overwrite_x, workers, plan)\u001b[39m\n\u001b[32m     30\u001b[39m \u001b[38;5;28;01mif\u001b[39;00m is_numpy(xp):\n\u001b[32m     31\u001b[39m     x = np.asarray(x)\n\u001b[32m---> \u001b[39m\u001b[32m32\u001b[39m     \u001b[38;5;28;01mreturn\u001b[39;00m \u001b[43mpocketfft_func\u001b[49m\u001b[43m(\u001b[49m\u001b[43mx\u001b[49m\u001b[43m,\u001b[49m\u001b[43m \u001b[49m\u001b[43mn\u001b[49m\u001b[43m=\u001b[49m\u001b[43mn\u001b[49m\u001b[43m,\u001b[49m\u001b[43m \u001b[49m\u001b[43maxis\u001b[49m\u001b[43m=\u001b[49m\u001b[43maxis\u001b[49m\u001b[43m,\u001b[49m\u001b[43m \u001b[49m\u001b[43mnorm\u001b[49m\u001b[43m=\u001b[49m\u001b[43mnorm\u001b[49m\u001b[43m,\u001b[49m\n\u001b[32m     33\u001b[39m \u001b[43m                          \u001b[49m\u001b[43moverwrite_x\u001b[49m\u001b[43m=\u001b[49m\u001b[43moverwrite_x\u001b[49m\u001b[43m,\u001b[49m\u001b[43m \u001b[49m\u001b[43mworkers\u001b[49m\u001b[43m=\u001b[49m\u001b[43mworkers\u001b[49m\u001b[43m,\u001b[49m\u001b[43m \u001b[49m\u001b[43mplan\u001b[49m\u001b[43m=\u001b[49m\u001b[43mplan\u001b[49m\u001b[43m)\u001b[49m\n\u001b[32m     35\u001b[39m norm = _validate_fft_args(workers, plan, norm)\n\u001b[32m     36\u001b[39m \u001b[38;5;28;01mif\u001b[39;00m \u001b[38;5;28mhasattr\u001b[39m(xp, \u001b[33m'\u001b[39m\u001b[33mfft\u001b[39m\u001b[33m'\u001b[39m):\n",
      "\u001b[36mFile \u001b[39m\u001b[32mc:\\Users\\pitom\\OneDrive\\Desktop\\materiale uni\\Tesi\\TESI-TRIENNALE\\.venv\\Lib\\site-packages\\scipy\\fft\\_pocketfft\\basic.py:61\u001b[39m, in \u001b[36mr2c\u001b[39m\u001b[34m(forward, x, n, axis, norm, overwrite_x, workers, plan)\u001b[39m\n\u001b[32m     58\u001b[39m     \u001b[38;5;28;01mraise\u001b[39;00m \u001b[38;5;167;01mValueError\u001b[39;00m(\u001b[33mf\u001b[39m\u001b[33m\"\u001b[39m\u001b[33minvalid number of data points (\u001b[39m\u001b[38;5;132;01m{\u001b[39;00mtmp.shape[axis]\u001b[38;5;132;01m}\u001b[39;00m\u001b[33m) specified\u001b[39m\u001b[33m\"\u001b[39m)\n\u001b[32m     60\u001b[39m \u001b[38;5;66;03m# Note: overwrite_x is not utilised\u001b[39;00m\n\u001b[32m---> \u001b[39m\u001b[32m61\u001b[39m \u001b[38;5;28;01mreturn\u001b[39;00m \u001b[43mpfft\u001b[49m\u001b[43m.\u001b[49m\u001b[43mr2c\u001b[49m\u001b[43m(\u001b[49m\u001b[43mtmp\u001b[49m\u001b[43m,\u001b[49m\u001b[43m \u001b[49m\u001b[43m(\u001b[49m\u001b[43maxis\u001b[49m\u001b[43m,\u001b[49m\u001b[43m)\u001b[49m\u001b[43m,\u001b[49m\u001b[43m \u001b[49m\u001b[43mforward\u001b[49m\u001b[43m,\u001b[49m\u001b[43m \u001b[49m\u001b[43mnorm\u001b[49m\u001b[43m,\u001b[49m\u001b[43m \u001b[49m\u001b[38;5;28;43;01mNone\u001b[39;49;00m\u001b[43m,\u001b[49m\u001b[43m \u001b[49m\u001b[43mworkers\u001b[49m\u001b[43m)\u001b[49m\n",
      "\u001b[31mKeyboardInterrupt\u001b[39m: "
     ]
    }
   ],
   "source": [
    "n_jobs = jb.cpu_count()\n",
    "res = jb.Parallel(n_jobs=1)(jb.delayed(worker)(in_file, out_dir, out_f_id) for in_file, out_f_id in tqdm(tasks))"
   ]
  },
  {
   "cell_type": "code",
   "execution_count": null,
   "id": "cdcfe0d4",
   "metadata": {},
   "outputs": [],
   "source": [
    "df_log = pd.DataFrame(res, columns=['path', 'status'])\n",
    "df_log.to_csv(log_file, index=False, encoding=\"utf-8-sig\") "
   ]
  },
  {
   "cell_type": "code",
   "execution_count": 7,
   "id": "e7fa30c6",
   "metadata": {},
   "outputs": [],
   "source": [
    "g = [(0, True), (1, True), (2, True)]"
   ]
  },
  {
   "cell_type": "code",
   "execution_count": 8,
   "id": "a49722a1",
   "metadata": {},
   "outputs": [
    {
     "data": {
      "text/plain": [
       "[(0, 1, 2), (True, True, True)]"
      ]
     },
     "execution_count": 8,
     "metadata": {},
     "output_type": "execute_result"
    }
   ],
   "source": [
    "list(zip(*g))"
   ]
  }
 ],
 "metadata": {
  "kernelspec": {
   "display_name": ".venv",
   "language": "python",
   "name": "python3"
  },
  "language_info": {
   "codemirror_mode": {
    "name": "ipython",
    "version": 3
   },
   "file_extension": ".py",
   "mimetype": "text/x-python",
   "name": "python",
   "nbconvert_exporter": "python",
   "pygments_lexer": "ipython3",
   "version": "3.11.9"
  }
 },
 "nbformat": 4,
 "nbformat_minor": 5
}
