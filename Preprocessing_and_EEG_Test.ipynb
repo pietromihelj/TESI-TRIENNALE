{
 "cells": [
  {
   "cell_type": "code",
   "execution_count": 1,
   "id": "b64e5b96",
   "metadata": {},
   "outputs": [
    {
     "ename": "AttributeError",
     "evalue": "module 'mne' has no attribute '__version__'",
     "output_type": "error",
     "traceback": [
      "\u001b[31m---------------------------------------------------------------------------\u001b[39m",
      "\u001b[31mAttributeError\u001b[39m                            Traceback (most recent call last)",
      "\u001b[36mCell\u001b[39m\u001b[36m \u001b[39m\u001b[32mIn[1]\u001b[39m\u001b[32m, line 3\u001b[39m\n\u001b[32m      1\u001b[39m \u001b[38;5;28;01mimport\u001b[39;00m\u001b[38;5;250m \u001b[39m\u001b[34;01mmne\u001b[39;00m\n\u001b[32m      2\u001b[39m \u001b[38;5;28;01mimport\u001b[39;00m\u001b[38;5;250m \u001b[39m\u001b[34;01mmatplotlib\u001b[39;00m\u001b[34;01m.\u001b[39;00m\u001b[34;01mpyplot\u001b[39;00m\u001b[38;5;250m \u001b[39m\u001b[38;5;28;01mas\u001b[39;00m\u001b[38;5;250m \u001b[39m\u001b[34;01mplt\u001b[39;00m\n\u001b[32m----> \u001b[39m\u001b[32m3\u001b[39m \u001b[38;5;28;01mimport\u001b[39;00m\u001b[38;5;250m \u001b[39m\u001b[34;01mpre_process\u001b[39;00m\u001b[38;5;250m \u001b[39m\u001b[38;5;28;01mas\u001b[39;00m\u001b[38;5;250m \u001b[39m\u001b[34;01mpp\u001b[39;00m\n\u001b[32m      4\u001b[39m \u001b[38;5;28;01mimport\u001b[39;00m\u001b[38;5;250m \u001b[39m\u001b[34;01mutils\u001b[39;00m\u001b[38;5;250m \u001b[39m\u001b[38;5;28;01mas\u001b[39;00m\u001b[38;5;250m \u001b[39m\u001b[34;01mu\u001b[39;00m\n\u001b[32m      5\u001b[39m \u001b[38;5;28;01mimport\u001b[39;00m\u001b[38;5;250m \u001b[39m\u001b[34;01mpandas\u001b[39;00m\u001b[38;5;250m \u001b[39m\u001b[38;5;28;01mas\u001b[39;00m\u001b[38;5;250m \u001b[39m\u001b[34;01mpd\u001b[39;00m\n",
      "\u001b[36mFile \u001b[39m\u001b[32m~/TESI-TRIENNALE/pre_process.py:10\u001b[39m\n\u001b[32m      8\u001b[39m \u001b[38;5;28;01mimport\u001b[39;00m\u001b[38;5;250m \u001b[39m\u001b[34;01mportion\u001b[39;00m\u001b[38;5;250m \u001b[39m\u001b[38;5;28;01mas\u001b[39;00m\u001b[38;5;250m \u001b[39m\u001b[34;01mP\u001b[39;00m\n\u001b[32m      9\u001b[39m \u001b[38;5;28;01mimport\u001b[39;00m\u001b[38;5;250m \u001b[39m\u001b[34;01msys\u001b[39;00m\n\u001b[32m---> \u001b[39m\u001b[32m10\u001b[39m \u001b[38;5;28mprint\u001b[39m(\u001b[33mf\u001b[39m\u001b[33m\"\u001b[39m\u001b[33mMNE-Python version: \u001b[39m\u001b[38;5;132;01m{\u001b[39;00mmne.__version__\u001b[38;5;132;01m}\u001b[39;00m\u001b[33m\"\u001b[39m)\n\u001b[32m     12\u001b[39m \u001b[38;5;66;03m# Print the path to the MNE package being loaded\u001b[39;00m\n\u001b[32m     13\u001b[39m \u001b[38;5;28mprint\u001b[39m(\u001b[33mf\u001b[39m\u001b[33m\"\u001b[39m\u001b[33mMNE package path: \u001b[39m\u001b[38;5;132;01m{\u001b[39;00mmne.\u001b[34m__file__\u001b[39m\u001b[38;5;132;01m}\u001b[39;00m\u001b[33m\"\u001b[39m)\n",
      "\u001b[31mAttributeError\u001b[39m: module 'mne' has no attribute '__version__'"
     ]
    }
   ],
   "source": [
    "import mne\n",
    "import matplotlib.pyplot as plt\n",
    "import pre_process as pp\n",
    "import utils as u\n",
    "import pandas as pd\n",
    "import time\n",
    "import joblib as jb\n",
    "from tqdm import tqdm\n",
    "import os"
   ]
  },
  {
   "cell_type": "code",
   "execution_count": 8,
   "id": "1ee19adb",
   "metadata": {},
   "outputs": [],
   "source": [
    "path_list = u.get_path_list('/u/pmihelj/isip.piconepress.com/projects/nedc/data/tuh_eeg/tuh_eeg_abnormal/v3.0.1/edf',['.edf'],True)"
   ]
  },
  {
   "cell_type": "code",
   "execution_count": 5,
   "id": "6f9d26d8",
   "metadata": {},
   "outputs": [
    {
     "name": "stdout",
     "output_type": "stream",
     "text": [
      "<class 'numpy.ndarray'>\n",
      "(2993,)\n"
     ]
    }
   ],
   "source": [
    "print(type(path_list))\n",
    "print(path_list.shape)"
   ]
  },
  {
   "cell_type": "code",
   "execution_count": 8,
   "id": "41d9e7c7",
   "metadata": {},
   "outputs": [],
   "source": [
    "path_id_list= [f\"campione_{i}\" for i in range(1, 2994)]"
   ]
  },
  {
   "cell_type": "code",
   "execution_count": 11,
   "id": "84497f36",
   "metadata": {},
   "outputs": [],
   "source": [
    "df_path = pd.DataFrame({'Path_id':path_id_list, 'Path':path_list})"
   ]
  },
  {
   "cell_type": "code",
   "execution_count": 14,
   "id": "f31d7f40",
   "metadata": {},
   "outputs": [
    {
     "data": {
      "text/html": [
       "<div>\n",
       "<style scoped>\n",
       "    .dataframe tbody tr th:only-of-type {\n",
       "        vertical-align: middle;\n",
       "    }\n",
       "\n",
       "    .dataframe tbody tr th {\n",
       "        vertical-align: top;\n",
       "    }\n",
       "\n",
       "    .dataframe thead th {\n",
       "        text-align: right;\n",
       "    }\n",
       "</style>\n",
       "<table border=\"1\" class=\"dataframe\">\n",
       "  <thead>\n",
       "    <tr style=\"text-align: right;\">\n",
       "      <th></th>\n",
       "      <th>Path_id</th>\n",
       "      <th>Path</th>\n",
       "    </tr>\n",
       "  </thead>\n",
       "  <tbody>\n",
       "    <tr>\n",
       "      <th>2988</th>\n",
       "      <td>campione_2989</td>\n",
       "      <td>/u/pmihelj/isip.piconepress.com/projects/nedc/...</td>\n",
       "    </tr>\n",
       "    <tr>\n",
       "      <th>2989</th>\n",
       "      <td>campione_2990</td>\n",
       "      <td>/u/pmihelj/isip.piconepress.com/projects/nedc/...</td>\n",
       "    </tr>\n",
       "    <tr>\n",
       "      <th>2990</th>\n",
       "      <td>campione_2991</td>\n",
       "      <td>/u/pmihelj/isip.piconepress.com/projects/nedc/...</td>\n",
       "    </tr>\n",
       "    <tr>\n",
       "      <th>2991</th>\n",
       "      <td>campione_2992</td>\n",
       "      <td>/u/pmihelj/isip.piconepress.com/projects/nedc/...</td>\n",
       "    </tr>\n",
       "    <tr>\n",
       "      <th>2992</th>\n",
       "      <td>campione_2993</td>\n",
       "      <td>/u/pmihelj/isip.piconepress.com/projects/nedc/...</td>\n",
       "    </tr>\n",
       "  </tbody>\n",
       "</table>\n",
       "</div>"
      ],
      "text/plain": [
       "            Path_id                                               Path\n",
       "2988  campione_2989  /u/pmihelj/isip.piconepress.com/projects/nedc/...\n",
       "2989  campione_2990  /u/pmihelj/isip.piconepress.com/projects/nedc/...\n",
       "2990  campione_2991  /u/pmihelj/isip.piconepress.com/projects/nedc/...\n",
       "2991  campione_2992  /u/pmihelj/isip.piconepress.com/projects/nedc/...\n",
       "2992  campione_2993  /u/pmihelj/isip.piconepress.com/projects/nedc/..."
      ]
     },
     "execution_count": 14,
     "metadata": {},
     "output_type": "execute_result"
    }
   ],
   "source": [
    "df_path.tail()"
   ]
  },
  {
   "cell_type": "code",
   "execution_count": 9,
   "id": "3710b67e",
   "metadata": {},
   "outputs": [],
   "source": [
    "df_path.to_csv('path.csv', index=False, encoding='utf-8-sig')"
   ]
  },
  {
   "cell_type": "code",
   "execution_count": 9,
   "id": "852d6ec4",
   "metadata": {},
   "outputs": [],
   "source": [
    "def worker(in_file, out_dir, out_prefix):\n",
    "    #try:\n",
    "    dg = pp.data_gen(in_file, out_dir, out_prefix)\n",
    "    dg.save_final_data(seg_len=1.0, merge_len=0.2)\n",
    "    #except:\n",
    "    #    flag = False\n",
    "    #    time.sleep(3.0)\n",
    "    #else:\n",
    "    #    flag = True\n",
    "    return in_file#, flag"
   ]
  },
  {
   "cell_type": "code",
   "execution_count": 10,
   "id": "63bbb3d4",
   "metadata": {},
   "outputs": [
    {
     "name": "stdout",
     "output_type": "stream",
     "text": [
      "{0, 1, 2, 3, 4, 5, 6, 7, 8, 9, 10, 11, 12, 13, 14, 15}\n",
      "16\n"
     ]
    }
   ],
   "source": [
    "print(os.sched_getaffinity(0))  # core accessibili al processo\n",
    "print(len(os.sched_getaffinity(0)))"
   ]
  },
  {
   "cell_type": "code",
   "execution_count": 11,
   "id": "4109fd5b",
   "metadata": {},
   "outputs": [],
   "source": [
    "md_file = \"path.csv\"\n",
    "out_dir = \"./raw_data\"\n",
    "log_file = \"./raw_data/log.csv\""
   ]
  },
  {
   "cell_type": "code",
   "execution_count": 12,
   "id": "23b98682",
   "metadata": {},
   "outputs": [
    {
     "data": {
      "text/plain": [
       "('/u/pmihelj/isip.piconepress.com/projects/nedc/data/tuh_eeg/tuh_eeg_abnormal/v3.0.1/edf/eval/abnormal/01_tcp_ar/aaaaabdo_s003_t000.edf',\n",
       " 'campione_1')"
      ]
     },
     "execution_count": 12,
     "metadata": {},
     "output_type": "execute_result"
    }
   ],
   "source": [
    "if not os.path.isdir(out_dir):\n",
    "    os.makedirs(out_dir)\n",
    "\n",
    "df_path = pd.read_csv(md_file)\n",
    "tasks = [(Pt, Pt_id) for Pt, Pt_id in zip(df_path.Path, df_path.Path_id)]\n",
    "tasks[0]"
   ]
  },
  {
   "cell_type": "code",
   "execution_count": 2,
   "id": "02a0b309",
   "metadata": {},
   "outputs": [
    {
     "ename": "NameError",
     "evalue": "name 'jb' is not defined",
     "output_type": "error",
     "traceback": [
      "\u001b[31m---------------------------------------------------------------------------\u001b[39m",
      "\u001b[31mNameError\u001b[39m                                 Traceback (most recent call last)",
      "\u001b[36mCell\u001b[39m\u001b[36m \u001b[39m\u001b[32mIn[2]\u001b[39m\u001b[32m, line 1\u001b[39m\n\u001b[32m----> \u001b[39m\u001b[32m1\u001b[39m n_jobs = jb.cpu_count()\n\u001b[32m      2\u001b[39m res = jb.Parallel(n_jobs=n_jobs)(jb.delayed(worker)(in_file, out_dir, out_f_id) \u001b[38;5;28;01mfor\u001b[39;00m in_file, out_f_id \u001b[38;5;129;01min\u001b[39;00m tqdm(tasks))\n",
      "\u001b[31mNameError\u001b[39m: name 'jb' is not defined"
     ]
    }
   ],
   "source": [
    "n_jobs = jb.cpu_count()\n",
    "res = jb.Parallel(n_jobs=n_jobs)(jb.delayed(worker)(in_file, out_dir, out_f_id) for in_file, out_f_id in tqdm(tasks))"
   ]
  },
  {
   "cell_type": "code",
   "execution_count": null,
   "id": "cdcfe0d4",
   "metadata": {},
   "outputs": [],
   "source": [
    "df_log = pd.DataFrame(res, columns=['path', 'status'])\n",
    "df_log.to_csv(log_file, index=False, encoding=\"utf-8-sig\") "
   ]
  }
 ],
 "metadata": {
  "kernelspec": {
   "display_name": "jlab_user_env",
   "language": "python",
   "name": "python3"
  },
  "language_info": {
   "codemirror_mode": {
    "name": "ipython",
    "version": 3
   },
   "file_extension": ".py",
   "mimetype": "text/x-python",
   "name": "python",
   "nbconvert_exporter": "python",
   "pygments_lexer": "ipython3",
   "version": "3.12.11"
  }
 },
 "nbformat": 4,
 "nbformat_minor": 5
}
