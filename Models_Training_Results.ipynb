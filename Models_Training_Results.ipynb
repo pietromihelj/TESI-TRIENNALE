{
 "cells": [
  {
   "cell_type": "code",
   "execution_count": 1,
   "id": "66a056c7",
   "metadata": {},
   "outputs": [],
   "source": [
    "import torch"
   ]
  },
  {
   "cell_type": "code",
   "execution_count": 2,
   "id": "0b4a40e9",
   "metadata": {},
   "outputs": [],
   "source": [
    "step = torch.load('ckpt_epoch_20_1480000.ckpt')"
   ]
  },
  {
   "cell_type": "code",
   "execution_count": 4,
   "id": "f4729837",
   "metadata": {},
   "outputs": [],
   "source": [
    "from model import VAEEG"
   ]
  },
  {
   "cell_type": "code",
   "execution_count": 5,
   "id": "1cda9e63",
   "metadata": {},
   "outputs": [
    {
     "data": {
      "text/plain": [
       "<All keys matched successfully>"
      ]
     },
     "execution_count": 5,
     "metadata": {},
     "output_type": "execute_result"
    }
   ],
   "source": [
    "model = VAEEG(1,8,0.2,True)\n",
    "model.load_state_dict(step['model'])"
   ]
  }
 ],
 "metadata": {
  "kernelspec": {
   "display_name": ".venv",
   "language": "python",
   "name": "python3"
  },
  "language_info": {
   "codemirror_mode": {
    "name": "ipython",
    "version": 3
   },
   "file_extension": ".py",
   "mimetype": "text/x-python",
   "name": "python",
   "nbconvert_exporter": "python",
   "pygments_lexer": "ipython3",
   "version": "3.11.9"
  }
 },
 "nbformat": 4,
 "nbformat_minor": 5
}
