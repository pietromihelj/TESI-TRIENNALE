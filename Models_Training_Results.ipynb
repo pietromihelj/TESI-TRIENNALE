{
 "cells": [
  {
   "cell_type": "code",
   "execution_count": 15,
   "id": "66a056c7",
   "metadata": {},
   "outputs": [],
   "source": [
    "import pandas as pd\n",
    "import utils as u\n",
    "from tqdm import tqdm"
   ]
  },
  {
   "cell_type": "code",
   "execution_count": 22,
   "id": "32bb4cae",
   "metadata": {},
   "outputs": [],
   "source": [
    "path_list = u.get_path_list(d_path=\"D:/age_dataset\", f_extensions=['.csv'], sub_d=True)"
   ]
  },
  {
   "cell_type": "code",
   "execution_count": 23,
   "id": "4ca5bb48",
   "metadata": {},
   "outputs": [
    {
     "data": {
      "text/plain": [
       "1297"
      ]
     },
     "execution_count": 23,
     "metadata": {},
     "output_type": "execute_result"
    }
   ],
   "source": [
    "len(path_list)"
   ]
  }
 ],
 "metadata": {
  "kernelspec": {
   "display_name": ".venv",
   "language": "python",
   "name": "python3"
  },
  "language_info": {
   "codemirror_mode": {
    "name": "ipython",
    "version": 3
   },
   "file_extension": ".py",
   "mimetype": "text/x-python",
   "name": "python",
   "nbconvert_exporter": "python",
   "pygments_lexer": "ipython3",
   "version": "3.11.9"
  }
 },
 "nbformat": 4,
 "nbformat_minor": 5
}
